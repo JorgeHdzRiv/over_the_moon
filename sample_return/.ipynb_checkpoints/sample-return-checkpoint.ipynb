{
 "cells": [
  {
   "cell_type": "markdown",
   "metadata": {},
   "source": [
    "# Analisis de datos con python para datos sobre las rocas lunares"
   ]
  },
  {
   "cell_type": "markdown",
   "metadata": {},
   "source": [
    "## Carga de datos"
   ]
  },
  {
   "cell_type": "code",
   "execution_count": 1,
   "metadata": {},
   "outputs": [],
   "source": [
    "import pandas as pd\n",
    "\n",
    "rock_samples = pd.read_csv('./data/rocksamples.csv')\n",
    "\n"
   ]
  },
  {
   "cell_type": "code",
   "execution_count": 5,
   "metadata": {},
   "outputs": [
    {
     "data": {
      "text/html": [
       "<div>\n",
       "<style scoped>\n",
       "    .dataframe tbody tr th:only-of-type {\n",
       "        vertical-align: middle;\n",
       "    }\n",
       "\n",
       "    .dataframe tbody tr th {\n",
       "        vertical-align: top;\n",
       "    }\n",
       "\n",
       "    .dataframe thead th {\n",
       "        text-align: right;\n",
       "    }\n",
       "</style>\n",
       "<table border=\"1\" class=\"dataframe\">\n",
       "  <thead>\n",
       "    <tr style=\"text-align: right;\">\n",
       "      <th></th>\n",
       "      <th>ID</th>\n",
       "      <th>Mission</th>\n",
       "      <th>Type</th>\n",
       "      <th>Subtype</th>\n",
       "      <th>Weight (g)</th>\n",
       "      <th>Pristine (%)</th>\n",
       "    </tr>\n",
       "  </thead>\n",
       "  <tbody>\n",
       "    <tr>\n",
       "      <th>0</th>\n",
       "      <td>10001</td>\n",
       "      <td>Apollo11</td>\n",
       "      <td>Soil</td>\n",
       "      <td>Unsieved</td>\n",
       "      <td>125.8</td>\n",
       "      <td>88.36</td>\n",
       "    </tr>\n",
       "    <tr>\n",
       "      <th>1</th>\n",
       "      <td>10002</td>\n",
       "      <td>Apollo11</td>\n",
       "      <td>Soil</td>\n",
       "      <td>Unsieved</td>\n",
       "      <td>5629.0</td>\n",
       "      <td>93.73</td>\n",
       "    </tr>\n",
       "    <tr>\n",
       "      <th>2</th>\n",
       "      <td>10003</td>\n",
       "      <td>Apollo11</td>\n",
       "      <td>Basalt</td>\n",
       "      <td>Ilmenite</td>\n",
       "      <td>213.0</td>\n",
       "      <td>65.56</td>\n",
       "    </tr>\n",
       "    <tr>\n",
       "      <th>3</th>\n",
       "      <td>10004</td>\n",
       "      <td>Apollo11</td>\n",
       "      <td>Core</td>\n",
       "      <td>Unsieved</td>\n",
       "      <td>44.8</td>\n",
       "      <td>71.76</td>\n",
       "    </tr>\n",
       "    <tr>\n",
       "      <th>4</th>\n",
       "      <td>10005</td>\n",
       "      <td>Apollo11</td>\n",
       "      <td>Core</td>\n",
       "      <td>Unsieved</td>\n",
       "      <td>53.4</td>\n",
       "      <td>40.31</td>\n",
       "    </tr>\n",
       "    <tr>\n",
       "      <th>5</th>\n",
       "      <td>10008</td>\n",
       "      <td>Apollo11</td>\n",
       "      <td>Soil</td>\n",
       "      <td>Unsieved</td>\n",
       "      <td>89.0</td>\n",
       "      <td>5.75</td>\n",
       "    </tr>\n",
       "    <tr>\n",
       "      <th>6</th>\n",
       "      <td>10009</td>\n",
       "      <td>Apollo11</td>\n",
       "      <td>Breccia</td>\n",
       "      <td>Regolith</td>\n",
       "      <td>112.0</td>\n",
       "      <td>97.27</td>\n",
       "    </tr>\n",
       "    <tr>\n",
       "      <th>7</th>\n",
       "      <td>10010</td>\n",
       "      <td>Apollo11</td>\n",
       "      <td>Soil</td>\n",
       "      <td>Unsieved</td>\n",
       "      <td>491.0</td>\n",
       "      <td>91.03</td>\n",
       "    </tr>\n",
       "    <tr>\n",
       "      <th>8</th>\n",
       "      <td>10011</td>\n",
       "      <td>Apollo11</td>\n",
       "      <td>Soil</td>\n",
       "      <td>Unsieved</td>\n",
       "      <td>82.6</td>\n",
       "      <td>62.01</td>\n",
       "    </tr>\n",
       "    <tr>\n",
       "      <th>9</th>\n",
       "      <td>10014</td>\n",
       "      <td>Apollo11</td>\n",
       "      <td>Soil</td>\n",
       "      <td>Unsieved</td>\n",
       "      <td>50.0</td>\n",
       "      <td>0.00</td>\n",
       "    </tr>\n",
       "  </tbody>\n",
       "</table>\n",
       "</div>"
      ],
      "text/plain": [
       "      ID   Mission     Type   Subtype  Weight (g)  Pristine (%)\n",
       "0  10001  Apollo11     Soil  Unsieved       125.8         88.36\n",
       "1  10002  Apollo11     Soil  Unsieved      5629.0         93.73\n",
       "2  10003  Apollo11   Basalt  Ilmenite       213.0         65.56\n",
       "3  10004  Apollo11     Core  Unsieved        44.8         71.76\n",
       "4  10005  Apollo11     Core  Unsieved        53.4         40.31\n",
       "5  10008  Apollo11     Soil  Unsieved        89.0          5.75\n",
       "6  10009  Apollo11  Breccia  Regolith       112.0         97.27\n",
       "7  10010  Apollo11     Soil  Unsieved       491.0         91.03\n",
       "8  10011  Apollo11     Soil  Unsieved        82.6         62.01\n",
       "9  10014  Apollo11     Soil  Unsieved        50.0          0.00"
      ]
     },
     "execution_count": 5,
     "metadata": {},
     "output_type": "execute_result"
    }
   ],
   "source": [
    "rock_samples.head(10)"
   ]
  },
  {
   "cell_type": "code",
   "execution_count": 6,
   "metadata": {},
   "outputs": [
    {
     "name": "stdout",
     "output_type": "stream",
     "text": [
      "<class 'pandas.core.frame.DataFrame'>\n",
      "RangeIndex: 2229 entries, 0 to 2228\n",
      "Data columns (total 6 columns):\n",
      " #   Column        Non-Null Count  Dtype  \n",
      "---  ------        --------------  -----  \n",
      " 0   ID            2229 non-null   int64  \n",
      " 1   Mission       2229 non-null   object \n",
      " 2   Type          2229 non-null   object \n",
      " 3   Subtype       2226 non-null   object \n",
      " 4   Weight (g)    2229 non-null   float64\n",
      " 5   Pristine (%)  2229 non-null   float64\n",
      "dtypes: float64(2), int64(1), object(3)\n",
      "memory usage: 104.6+ KB\n"
     ]
    }
   ],
   "source": [
    "rock_samples.info()"
   ]
  },
  {
   "cell_type": "markdown",
   "metadata": {},
   "source": [
    "A partir de esta salida, se ve que durante las misiones Apolo se han obtenido 2229 muestras. Si examina una muestra de los datos, verá que cada fila contiene lo siguiente:\n",
    "\n",
    "ID: el identificador único que la NASA usa para realizar el seguimiento de la muestra.\n",
    "\n",
    "Mission: la misión responsable de recuperar la muestra.\n",
    "\n",
    "Type: el tipo de muestra (tipo de roca u otra clasificación).\n",
    "\n",
    "Subtype: una clasificación de tipo más específica.\n",
    "\n",
    "Peso (g): peso original de la muestra en gramos.\n",
    "\n",
    "Pureza (%): porcentaje que queda de la muestra (parte de la muestra se usa durante la investigación).\n"
   ]
  },
  {
   "cell_type": "markdown",
   "metadata": {},
   "source": [
    "## Limpieza de los datos"
   ]
  },
  {
   "cell_type": "code",
   "execution_count": null,
   "metadata": {},
   "outputs": [],
   "source": []
  }
 ],
 "metadata": {
  "interpreter": {
   "hash": "9ab89e7344eab2812614efc3df9fecc7474a7c2bbd5cc7e728a2f75be6773ec3"
  },
  "kernelspec": {
   "display_name": "Python 3 (ipykernel)",
   "language": "python",
   "name": "python3"
  },
  "language_info": {
   "codemirror_mode": {
    "name": "ipython",
    "version": 3
   },
   "file_extension": ".py",
   "mimetype": "text/x-python",
   "name": "python",
   "nbconvert_exporter": "python",
   "pygments_lexer": "ipython3",
   "version": "3.9.5"
  }
 },
 "nbformat": 4,
 "nbformat_minor": 4
}
