{
 "cells": [
  {
   "cell_type": "markdown",
   "metadata": {},
   "source": [
    "# Analisis de datos con python para datos sobre las rocas lunares"
   ]
  },
  {
   "cell_type": "markdown",
   "metadata": {},
   "source": [
    "## Carga de datos"
   ]
  },
  {
   "cell_type": "code",
   "execution_count": 2,
   "metadata": {},
   "outputs": [],
   "source": [
    "import pandas as pd\n",
    "\n",
    "rock_samples = pd.read_csv('./data/rocksamples.csv')\n",
    "\n"
   ]
  },
  {
   "cell_type": "code",
   "execution_count": 3,
   "metadata": {},
   "outputs": [
    {
     "data": {
      "text/html": [
       "<div>\n",
       "<style scoped>\n",
       "    .dataframe tbody tr th:only-of-type {\n",
       "        vertical-align: middle;\n",
       "    }\n",
       "\n",
       "    .dataframe tbody tr th {\n",
       "        vertical-align: top;\n",
       "    }\n",
       "\n",
       "    .dataframe thead th {\n",
       "        text-align: right;\n",
       "    }\n",
       "</style>\n",
       "<table border=\"1\" class=\"dataframe\">\n",
       "  <thead>\n",
       "    <tr style=\"text-align: right;\">\n",
       "      <th></th>\n",
       "      <th>ID</th>\n",
       "      <th>Mission</th>\n",
       "      <th>Type</th>\n",
       "      <th>Subtype</th>\n",
       "      <th>Weight (g)</th>\n",
       "      <th>Pristine (%)</th>\n",
       "    </tr>\n",
       "  </thead>\n",
       "  <tbody>\n",
       "    <tr>\n",
       "      <th>0</th>\n",
       "      <td>10001</td>\n",
       "      <td>Apollo11</td>\n",
       "      <td>Soil</td>\n",
       "      <td>Unsieved</td>\n",
       "      <td>125.8</td>\n",
       "      <td>88.36</td>\n",
       "    </tr>\n",
       "    <tr>\n",
       "      <th>1</th>\n",
       "      <td>10002</td>\n",
       "      <td>Apollo11</td>\n",
       "      <td>Soil</td>\n",
       "      <td>Unsieved</td>\n",
       "      <td>5629.0</td>\n",
       "      <td>93.73</td>\n",
       "    </tr>\n",
       "    <tr>\n",
       "      <th>2</th>\n",
       "      <td>10003</td>\n",
       "      <td>Apollo11</td>\n",
       "      <td>Basalt</td>\n",
       "      <td>Ilmenite</td>\n",
       "      <td>213.0</td>\n",
       "      <td>65.56</td>\n",
       "    </tr>\n",
       "    <tr>\n",
       "      <th>3</th>\n",
       "      <td>10004</td>\n",
       "      <td>Apollo11</td>\n",
       "      <td>Core</td>\n",
       "      <td>Unsieved</td>\n",
       "      <td>44.8</td>\n",
       "      <td>71.76</td>\n",
       "    </tr>\n",
       "    <tr>\n",
       "      <th>4</th>\n",
       "      <td>10005</td>\n",
       "      <td>Apollo11</td>\n",
       "      <td>Core</td>\n",
       "      <td>Unsieved</td>\n",
       "      <td>53.4</td>\n",
       "      <td>40.31</td>\n",
       "    </tr>\n",
       "    <tr>\n",
       "      <th>5</th>\n",
       "      <td>10008</td>\n",
       "      <td>Apollo11</td>\n",
       "      <td>Soil</td>\n",
       "      <td>Unsieved</td>\n",
       "      <td>89.0</td>\n",
       "      <td>5.75</td>\n",
       "    </tr>\n",
       "    <tr>\n",
       "      <th>6</th>\n",
       "      <td>10009</td>\n",
       "      <td>Apollo11</td>\n",
       "      <td>Breccia</td>\n",
       "      <td>Regolith</td>\n",
       "      <td>112.0</td>\n",
       "      <td>97.27</td>\n",
       "    </tr>\n",
       "    <tr>\n",
       "      <th>7</th>\n",
       "      <td>10010</td>\n",
       "      <td>Apollo11</td>\n",
       "      <td>Soil</td>\n",
       "      <td>Unsieved</td>\n",
       "      <td>491.0</td>\n",
       "      <td>91.03</td>\n",
       "    </tr>\n",
       "    <tr>\n",
       "      <th>8</th>\n",
       "      <td>10011</td>\n",
       "      <td>Apollo11</td>\n",
       "      <td>Soil</td>\n",
       "      <td>Unsieved</td>\n",
       "      <td>82.6</td>\n",
       "      <td>62.01</td>\n",
       "    </tr>\n",
       "    <tr>\n",
       "      <th>9</th>\n",
       "      <td>10014</td>\n",
       "      <td>Apollo11</td>\n",
       "      <td>Soil</td>\n",
       "      <td>Unsieved</td>\n",
       "      <td>50.0</td>\n",
       "      <td>0.00</td>\n",
       "    </tr>\n",
       "  </tbody>\n",
       "</table>\n",
       "</div>"
      ],
      "text/plain": [
       "      ID   Mission     Type   Subtype  Weight (g)  Pristine (%)\n",
       "0  10001  Apollo11     Soil  Unsieved       125.8         88.36\n",
       "1  10002  Apollo11     Soil  Unsieved      5629.0         93.73\n",
       "2  10003  Apollo11   Basalt  Ilmenite       213.0         65.56\n",
       "3  10004  Apollo11     Core  Unsieved        44.8         71.76\n",
       "4  10005  Apollo11     Core  Unsieved        53.4         40.31\n",
       "5  10008  Apollo11     Soil  Unsieved        89.0          5.75\n",
       "6  10009  Apollo11  Breccia  Regolith       112.0         97.27\n",
       "7  10010  Apollo11     Soil  Unsieved       491.0         91.03\n",
       "8  10011  Apollo11     Soil  Unsieved        82.6         62.01\n",
       "9  10014  Apollo11     Soil  Unsieved        50.0          0.00"
      ]
     },
     "execution_count": 3,
     "metadata": {},
     "output_type": "execute_result"
    }
   ],
   "source": [
    "rock_samples.head(10)"
   ]
  },
  {
   "cell_type": "code",
   "execution_count": 4,
   "metadata": {},
   "outputs": [
    {
     "name": "stdout",
     "output_type": "stream",
     "text": [
      "<class 'pandas.core.frame.DataFrame'>\n",
      "RangeIndex: 2229 entries, 0 to 2228\n",
      "Data columns (total 6 columns):\n",
      " #   Column        Non-Null Count  Dtype  \n",
      "---  ------        --------------  -----  \n",
      " 0   ID            2229 non-null   int64  \n",
      " 1   Mission       2229 non-null   object \n",
      " 2   Type          2229 non-null   object \n",
      " 3   Subtype       2226 non-null   object \n",
      " 4   Weight (g)    2229 non-null   float64\n",
      " 5   Pristine (%)  2229 non-null   float64\n",
      "dtypes: float64(2), int64(1), object(3)\n",
      "memory usage: 104.6+ KB\n"
     ]
    }
   ],
   "source": [
    "rock_samples.info()"
   ]
  },
  {
   "cell_type": "markdown",
   "metadata": {},
   "source": [
    "A partir de esta salida, se ve que durante las misiones Apolo se han obtenido 2229 muestras. Si examina una muestra de los datos, verá que cada fila contiene lo siguiente:\n",
    "\n",
    "ID: el identificador único que la NASA usa para realizar el seguimiento de la muestra.\n",
    "\n",
    "Mission: la misión responsable de recuperar la muestra.\n",
    "\n",
    "Type: el tipo de muestra (tipo de roca u otra clasificación).\n",
    "\n",
    "Subtype: una clasificación de tipo más específica.\n",
    "\n",
    "Peso (g): peso original de la muestra en gramos.\n",
    "\n",
    "Pureza (%): porcentaje que queda de la muestra (parte de la muestra se usa durante la investigación).\n"
   ]
  },
  {
   "cell_type": "markdown",
   "metadata": {},
   "source": [
    "## Limpieza de los datos"
   ]
  },
  {
   "cell_type": "markdown",
   "metadata": {},
   "source": [
    "En este caso, la información de mayor disponibilidad pública que podría afectar a la cantidad de muestras que se pueden obtener es el tipo de nave empleado.\n"
   ]
  },
  {
   "cell_type": "markdown",
   "metadata": {},
   "source": [
    "### Conversion del peso de la muestra\n",
    "Aunque los detalles del diseño de los cohetes son propietarios, parte de la información está disponible de forma pública, como el peso de los módulos (partes del cohete) que transportarán las muestras de vuelta a la Tierra y el peso total que el cohete puede levantar por encima de la atmósfera."
   ]
  },
  {
   "cell_type": "code",
   "execution_count": 5,
   "metadata": {},
   "outputs": [
    {
     "data": {
      "text/html": [
       "<div>\n",
       "<style scoped>\n",
       "    .dataframe tbody tr th:only-of-type {\n",
       "        vertical-align: middle;\n",
       "    }\n",
       "\n",
       "    .dataframe tbody tr th {\n",
       "        vertical-align: top;\n",
       "    }\n",
       "\n",
       "    .dataframe thead th {\n",
       "        text-align: right;\n",
       "    }\n",
       "</style>\n",
       "<table border=\"1\" class=\"dataframe\">\n",
       "  <thead>\n",
       "    <tr style=\"text-align: right;\">\n",
       "      <th></th>\n",
       "      <th>ID</th>\n",
       "      <th>Mission</th>\n",
       "      <th>Type</th>\n",
       "      <th>Subtype</th>\n",
       "      <th>Weight (kg)</th>\n",
       "      <th>Pristine (%)</th>\n",
       "    </tr>\n",
       "  </thead>\n",
       "  <tbody>\n",
       "    <tr>\n",
       "      <th>0</th>\n",
       "      <td>10001</td>\n",
       "      <td>Apollo11</td>\n",
       "      <td>Soil</td>\n",
       "      <td>Unsieved</td>\n",
       "      <td>0.1258</td>\n",
       "      <td>88.36</td>\n",
       "    </tr>\n",
       "    <tr>\n",
       "      <th>1</th>\n",
       "      <td>10002</td>\n",
       "      <td>Apollo11</td>\n",
       "      <td>Soil</td>\n",
       "      <td>Unsieved</td>\n",
       "      <td>5.6290</td>\n",
       "      <td>93.73</td>\n",
       "    </tr>\n",
       "    <tr>\n",
       "      <th>2</th>\n",
       "      <td>10003</td>\n",
       "      <td>Apollo11</td>\n",
       "      <td>Basalt</td>\n",
       "      <td>Ilmenite</td>\n",
       "      <td>0.2130</td>\n",
       "      <td>65.56</td>\n",
       "    </tr>\n",
       "    <tr>\n",
       "      <th>3</th>\n",
       "      <td>10004</td>\n",
       "      <td>Apollo11</td>\n",
       "      <td>Core</td>\n",
       "      <td>Unsieved</td>\n",
       "      <td>0.0448</td>\n",
       "      <td>71.76</td>\n",
       "    </tr>\n",
       "    <tr>\n",
       "      <th>4</th>\n",
       "      <td>10005</td>\n",
       "      <td>Apollo11</td>\n",
       "      <td>Core</td>\n",
       "      <td>Unsieved</td>\n",
       "      <td>0.0534</td>\n",
       "      <td>40.31</td>\n",
       "    </tr>\n",
       "  </tbody>\n",
       "</table>\n",
       "</div>"
      ],
      "text/plain": [
       "      ID   Mission    Type   Subtype  Weight (kg)  Pristine (%)\n",
       "0  10001  Apollo11    Soil  Unsieved       0.1258         88.36\n",
       "1  10002  Apollo11    Soil  Unsieved       5.6290         93.73\n",
       "2  10003  Apollo11  Basalt  Ilmenite       0.2130         65.56\n",
       "3  10004  Apollo11    Core  Unsieved       0.0448         71.76\n",
       "4  10005  Apollo11    Core  Unsieved       0.0534         40.31"
      ]
     },
     "execution_count": 5,
     "metadata": {},
     "output_type": "execute_result"
    }
   ],
   "source": [
    "rock_samples['Weight (g)'] = rock_samples['Weight (g)'].apply(lambda x:x*0.001)\n",
    "rock_samples.rename(columns={'Weight (g)':'Weight (kg)'}, inplace=True)\n",
    "rock_samples.head()"
   ]
  },
  {
   "cell_type": "markdown",
   "metadata": {},
   "source": [
    "Aquí primero se han modificado los valores de la columna Peso (g) para que tengan el mismo valor multiplicado por 0,001. Después, se ha cambiado el nombre de la columna por Peso (kg) para que sea más preciso."
   ]
  },
  {
   "cell_type": "markdown",
   "metadata": {},
   "source": [
    "### Creacion del dataframe\n",
    "Pandas, la biblioteca de Python que se va a usar para realizar el análisis de datos, tiene una estructura conocida como \"dataframe\", la cual resulta realmente eficaz para representar datos bidimensionales. Es posible que haya reconocido que, al ejecutar el código de rock_samples.head(), lo que se imprime es muy similar a una hoja de cálculo de Excel, una excelente manera de describir los elementos dataframe en pandas.\n",
    "\n",
    "El elemento dataframe rock_samples tiene una fila para cada muestra que se ha obtenido. A pesar de esto, tal como se ha mencionado antes, el objetivo es comprender las muestras de rocas en su totalidad en relación a los cohetes concretos en los que se han transportado.\n",
    "\n",
    "Crearemos un elemento dataframe con el nombre missions; será un resumen de los datos de cada una de las seis misiones Apolo en las que se han traído muestras. En este elemento dataframe, cree una columna con el nombre Mission, con una fila para cada misión."
   ]
  },
  {
   "cell_type": "code",
   "execution_count": 6,
   "metadata": {},
   "outputs": [
    {
     "data": {
      "text/html": [
       "<div>\n",
       "<style scoped>\n",
       "    .dataframe tbody tr th:only-of-type {\n",
       "        vertical-align: middle;\n",
       "    }\n",
       "\n",
       "    .dataframe tbody tr th {\n",
       "        vertical-align: top;\n",
       "    }\n",
       "\n",
       "    .dataframe thead th {\n",
       "        text-align: right;\n",
       "    }\n",
       "</style>\n",
       "<table border=\"1\" class=\"dataframe\">\n",
       "  <thead>\n",
       "    <tr style=\"text-align: right;\">\n",
       "      <th></th>\n",
       "      <th>Mission</th>\n",
       "    </tr>\n",
       "  </thead>\n",
       "  <tbody>\n",
       "    <tr>\n",
       "      <th>0</th>\n",
       "      <td>Apollo11</td>\n",
       "    </tr>\n",
       "    <tr>\n",
       "      <th>1</th>\n",
       "      <td>Apollo12</td>\n",
       "    </tr>\n",
       "    <tr>\n",
       "      <th>2</th>\n",
       "      <td>Apollo14</td>\n",
       "    </tr>\n",
       "    <tr>\n",
       "      <th>3</th>\n",
       "      <td>Apollo15</td>\n",
       "    </tr>\n",
       "    <tr>\n",
       "      <th>4</th>\n",
       "      <td>Apollo16</td>\n",
       "    </tr>\n",
       "  </tbody>\n",
       "</table>\n",
       "</div>"
      ],
      "text/plain": [
       "    Mission\n",
       "0  Apollo11\n",
       "1  Apollo12\n",
       "2  Apollo14\n",
       "3  Apollo15\n",
       "4  Apollo16"
      ]
     },
     "execution_count": 6,
     "metadata": {},
     "output_type": "execute_result"
    }
   ],
   "source": [
    "missions = pd.DataFrame()\n",
    "missions['Mission'] = rock_samples['Mission'].unique()\n",
    "missions.head()"
   ]
  },
  {
   "cell_type": "code",
   "execution_count": 7,
   "metadata": {},
   "outputs": [
    {
     "name": "stdout",
     "output_type": "stream",
     "text": [
      "<class 'pandas.core.frame.DataFrame'>\n",
      "RangeIndex: 6 entries, 0 to 5\n",
      "Data columns (total 1 columns):\n",
      " #   Column   Non-Null Count  Dtype \n",
      "---  ------   --------------  ----- \n",
      " 0   Mission  6 non-null      object\n",
      "dtypes: object(1)\n",
      "memory usage: 176.0+ bytes\n"
     ]
    }
   ],
   "source": [
    "missions.info()"
   ]
  },
  {
   "cell_type": "markdown",
   "metadata": {},
   "source": [
    "### Suma total del peso de las muestras por mision\n",
    "Ahora se puede agregar una columna nueva a missions para representar la suma de todas las muestras obtenidas durante esa misión.\n"
   ]
  },
  {
   "cell_type": "code",
   "execution_count": 8,
   "metadata": {},
   "outputs": [
    {
     "data": {
      "text/html": [
       "<div>\n",
       "<style scoped>\n",
       "    .dataframe tbody tr th:only-of-type {\n",
       "        vertical-align: middle;\n",
       "    }\n",
       "\n",
       "    .dataframe tbody tr th {\n",
       "        vertical-align: top;\n",
       "    }\n",
       "\n",
       "    .dataframe thead th {\n",
       "        text-align: right;\n",
       "    }\n",
       "</style>\n",
       "<table border=\"1\" class=\"dataframe\">\n",
       "  <thead>\n",
       "    <tr style=\"text-align: right;\">\n",
       "      <th></th>\n",
       "      <th>Mission</th>\n",
       "      <th>Sample weight (kg)</th>\n",
       "    </tr>\n",
       "  </thead>\n",
       "  <tbody>\n",
       "    <tr>\n",
       "      <th>0</th>\n",
       "      <td>Apollo11</td>\n",
       "      <td>21.55424</td>\n",
       "    </tr>\n",
       "    <tr>\n",
       "      <th>1</th>\n",
       "      <td>Apollo12</td>\n",
       "      <td>34.34238</td>\n",
       "    </tr>\n",
       "    <tr>\n",
       "      <th>2</th>\n",
       "      <td>Apollo14</td>\n",
       "      <td>41.83363</td>\n",
       "    </tr>\n",
       "    <tr>\n",
       "      <th>3</th>\n",
       "      <td>Apollo15</td>\n",
       "      <td>75.39910</td>\n",
       "    </tr>\n",
       "    <tr>\n",
       "      <th>4</th>\n",
       "      <td>Apollo16</td>\n",
       "      <td>92.46262</td>\n",
       "    </tr>\n",
       "    <tr>\n",
       "      <th>5</th>\n",
       "      <td>Apollo17</td>\n",
       "      <td>109.44402</td>\n",
       "    </tr>\n",
       "  </tbody>\n",
       "</table>\n",
       "</div>"
      ],
      "text/plain": [
       "    Mission  Sample weight (kg)\n",
       "0  Apollo11            21.55424\n",
       "1  Apollo12            34.34238\n",
       "2  Apollo14            41.83363\n",
       "3  Apollo15            75.39910\n",
       "4  Apollo16            92.46262\n",
       "5  Apollo17           109.44402"
      ]
     },
     "execution_count": 8,
     "metadata": {},
     "output_type": "execute_result"
    }
   ],
   "source": [
    "sample_total_weight = rock_samples.groupby('Mission')['Weight (kg)'].sum()\n",
    "missions = pd.merge(missions, sample_total_weight, on='Mission')\n",
    "missions.rename(columns={'Weight (kg)':'Sample weight (kg)'}, inplace=True)\n",
    "missions"
   ]
  },
  {
   "cell_type": "markdown",
   "metadata": {},
   "source": [
    "Ahora se desglosará este código. La primera línea es sample_total_weight = rock_samples.groupby('Mission')['Weight (kg)'].sum(), que se puede dividir de esta forma:\n",
    "\n",
    "* rock_samples.groupby('Mission'): agrupa todas las filas por los valores de la columna rock_samples.groupby('Mission').\n",
    "\n",
    "* rock_samples.groupby('Mission')['Weight (kg)']: toma todos los valores de la columna rock_samples.groupby('Mission')['Weight (kg)'], pero los agrupa por valores únicos de la columna Misión.\n",
    "\n",
    "* rock_samples.groupby('Mission')['Weight (kg)'].sum(): suma todos los valores de la columna rock_samples.groupby('Mission')['Weight (kg)'].sum() para cada valor único de la columna Misión.\n",
    "\n",
    "Si imprimiera esa línea, obtendría una serie de pandas, que básicamente es un tipo de datos unidimensional o una lista. En la lista, el índice sería el valor único de la columna Mission, en lugar de un número:"
   ]
  },
  {
   "cell_type": "code",
   "execution_count": 9,
   "metadata": {},
   "outputs": [
    {
     "data": {
      "text/plain": [
       "Mission\n",
       "Apollo11     21.55424\n",
       "Apollo12     34.34238\n",
       "Apollo14     41.83363\n",
       "Apollo15     75.39910\n",
       "Apollo16     92.46262\n",
       "Apollo17    109.44402\n",
       "Name: Weight (kg), dtype: float64"
      ]
     },
     "execution_count": 9,
     "metadata": {},
     "output_type": "execute_result"
    }
   ],
   "source": [
    "sample_total_weight = rock_samples.groupby('Mission')['Weight (kg)'].sum()\n",
    "sample_total_weight"
   ]
  },
  {
   "cell_type": "markdown",
   "metadata": {},
   "source": [
    "La línea siguiente, pd.merge(missions, sample_total_weight, on='Mission'), se puede describir de esta forma:\n",
    "\n",
    "Combine el elemento dataframe missions con la serie sample_total_weight y use la columna missions como el índice sobre el que realizar la combinación. El equipo básicamente hará lo siguiente: para cada valor de la columna Misión del elemento dataframe , se buscará el mismo valor en la serie sample_total_weight y se agregará el valor de la serie a la fila como una nueva columna en el elemento dataframe.\n",
    "\n",
    "Este ejemplo es bastante sencillo, ya que solo hay seis filas. Por tanto, se puede confirmar que el número 21,55424, por ejemplo, se ha agregado a la fila Apolo 11 en el elemento dataframe missions.\n",
    "\n",
    "La siguiente línea simplemente cambia el nombre de la columna, como antes, para asegurarse de que los datos son específicos.\n",
    "\n",
    "La última línea imprime el elemento dataframe missions completo. Como solo hay seis misiones, se puede imprimir el elemento dataframe completo y seguir entendiendo lo que se examina. No es necesario usar head() para imprimir solo las cinco primeras filas."
   ]
  },
  {
   "cell_type": "markdown",
   "metadata": {},
   "source": [
    "### Obtencion de la diferencia de pesos entre misiones\n",
    "Como no somos expertos en cohetes, es importante examinar una gran cantidad de secciones diferentes de los datos disponibles. En este caso, se ve que el peso total de las muestras ha aumentado en cada misión, pero es difícil ver cuánto a simple vista. Se puede agregar una columna más al elemento dataframe missions que simplemente obtenga la diferencia entre la fila actual y la anterior:"
   ]
  },
  {
   "cell_type": "code",
   "execution_count": 10,
   "metadata": {},
   "outputs": [
    {
     "data": {
      "text/html": [
       "<div>\n",
       "<style scoped>\n",
       "    .dataframe tbody tr th:only-of-type {\n",
       "        vertical-align: middle;\n",
       "    }\n",
       "\n",
       "    .dataframe tbody tr th {\n",
       "        vertical-align: top;\n",
       "    }\n",
       "\n",
       "    .dataframe thead th {\n",
       "        text-align: right;\n",
       "    }\n",
       "</style>\n",
       "<table border=\"1\" class=\"dataframe\">\n",
       "  <thead>\n",
       "    <tr style=\"text-align: right;\">\n",
       "      <th></th>\n",
       "      <th>Mission</th>\n",
       "      <th>Sample weight (kg)</th>\n",
       "      <th>Weight diff</th>\n",
       "    </tr>\n",
       "  </thead>\n",
       "  <tbody>\n",
       "    <tr>\n",
       "      <th>0</th>\n",
       "      <td>Apollo11</td>\n",
       "      <td>21.55424</td>\n",
       "      <td>NaN</td>\n",
       "    </tr>\n",
       "    <tr>\n",
       "      <th>1</th>\n",
       "      <td>Apollo12</td>\n",
       "      <td>34.34238</td>\n",
       "      <td>12.78814</td>\n",
       "    </tr>\n",
       "    <tr>\n",
       "      <th>2</th>\n",
       "      <td>Apollo14</td>\n",
       "      <td>41.83363</td>\n",
       "      <td>7.49125</td>\n",
       "    </tr>\n",
       "    <tr>\n",
       "      <th>3</th>\n",
       "      <td>Apollo15</td>\n",
       "      <td>75.39910</td>\n",
       "      <td>33.56547</td>\n",
       "    </tr>\n",
       "    <tr>\n",
       "      <th>4</th>\n",
       "      <td>Apollo16</td>\n",
       "      <td>92.46262</td>\n",
       "      <td>17.06352</td>\n",
       "    </tr>\n",
       "    <tr>\n",
       "      <th>5</th>\n",
       "      <td>Apollo17</td>\n",
       "      <td>109.44402</td>\n",
       "      <td>16.98140</td>\n",
       "    </tr>\n",
       "  </tbody>\n",
       "</table>\n",
       "</div>"
      ],
      "text/plain": [
       "    Mission  Sample weight (kg)  Weight diff\n",
       "0  Apollo11            21.55424          NaN\n",
       "1  Apollo12            34.34238     12.78814\n",
       "2  Apollo14            41.83363      7.49125\n",
       "3  Apollo15            75.39910     33.56547\n",
       "4  Apollo16            92.46262     17.06352\n",
       "5  Apollo17           109.44402     16.98140"
      ]
     },
     "execution_count": 10,
     "metadata": {},
     "output_type": "execute_result"
    }
   ],
   "source": [
    "missions['Weight diff'] = missions['Sample weight (kg)'].diff()\n",
    "missions"
   ]
  },
  {
   "cell_type": "markdown",
   "metadata": {},
   "source": [
    "Es necesario observar que en la primera fila, para Apolo 11, el valor de la columna Diferencia de peso es NaN Esto se denomina valor NULL. Como Apolo11 fue la primera misión, no hay ninguna diferencia entre el peso de la roca obtenida durante Apolo11 y el de la misión anterior. Este valor NaN se puede rellenar con 0:"
   ]
  },
  {
   "cell_type": "code",
   "execution_count": 11,
   "metadata": {},
   "outputs": [
    {
     "data": {
      "text/html": [
       "<div>\n",
       "<style scoped>\n",
       "    .dataframe tbody tr th:only-of-type {\n",
       "        vertical-align: middle;\n",
       "    }\n",
       "\n",
       "    .dataframe tbody tr th {\n",
       "        vertical-align: top;\n",
       "    }\n",
       "\n",
       "    .dataframe thead th {\n",
       "        text-align: right;\n",
       "    }\n",
       "</style>\n",
       "<table border=\"1\" class=\"dataframe\">\n",
       "  <thead>\n",
       "    <tr style=\"text-align: right;\">\n",
       "      <th></th>\n",
       "      <th>Mission</th>\n",
       "      <th>Sample weight (kg)</th>\n",
       "      <th>Weight diff</th>\n",
       "    </tr>\n",
       "  </thead>\n",
       "  <tbody>\n",
       "    <tr>\n",
       "      <th>0</th>\n",
       "      <td>Apollo11</td>\n",
       "      <td>21.55424</td>\n",
       "      <td>0.00000</td>\n",
       "    </tr>\n",
       "    <tr>\n",
       "      <th>1</th>\n",
       "      <td>Apollo12</td>\n",
       "      <td>34.34238</td>\n",
       "      <td>12.78814</td>\n",
       "    </tr>\n",
       "    <tr>\n",
       "      <th>2</th>\n",
       "      <td>Apollo14</td>\n",
       "      <td>41.83363</td>\n",
       "      <td>7.49125</td>\n",
       "    </tr>\n",
       "    <tr>\n",
       "      <th>3</th>\n",
       "      <td>Apollo15</td>\n",
       "      <td>75.39910</td>\n",
       "      <td>33.56547</td>\n",
       "    </tr>\n",
       "    <tr>\n",
       "      <th>4</th>\n",
       "      <td>Apollo16</td>\n",
       "      <td>92.46262</td>\n",
       "      <td>17.06352</td>\n",
       "    </tr>\n",
       "    <tr>\n",
       "      <th>5</th>\n",
       "      <td>Apollo17</td>\n",
       "      <td>109.44402</td>\n",
       "      <td>16.98140</td>\n",
       "    </tr>\n",
       "  </tbody>\n",
       "</table>\n",
       "</div>"
      ],
      "text/plain": [
       "    Mission  Sample weight (kg)  Weight diff\n",
       "0  Apollo11            21.55424      0.00000\n",
       "1  Apollo12            34.34238     12.78814\n",
       "2  Apollo14            41.83363      7.49125\n",
       "3  Apollo15            75.39910     33.56547\n",
       "4  Apollo16            92.46262     17.06352\n",
       "5  Apollo17           109.44402     16.98140"
      ]
     },
     "execution_count": 11,
     "metadata": {},
     "output_type": "execute_result"
    }
   ],
   "source": [
    "missions['Weight diff'] = missions['Weight diff'].fillna(value=0)\n",
    "missions"
   ]
  },
  {
   "cell_type": "code",
   "execution_count": null,
   "metadata": {},
   "outputs": [],
   "source": []
  }
 ],
 "metadata": {
  "interpreter": {
   "hash": "9ab89e7344eab2812614efc3df9fecc7474a7c2bbd5cc7e728a2f75be6773ec3"
  },
  "kernelspec": {
   "display_name": "Python 3 (ipykernel)",
   "language": "python",
   "name": "python3"
  },
  "language_info": {
   "codemirror_mode": {
    "name": "ipython",
    "version": 3
   },
   "file_extension": ".py",
   "mimetype": "text/x-python",
   "name": "python",
   "nbconvert_exporter": "python",
   "pygments_lexer": "ipython3",
   "version": "3.9.5"
  }
 },
 "nbformat": 4,
 "nbformat_minor": 4
}
